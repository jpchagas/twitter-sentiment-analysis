{
 "cells": [
  {
   "cell_type": "markdown",
   "metadata": {},
   "source": [
    "# **Tweepy for Twitter API**"
   ]
  },
  {
   "cell_type": "markdown",
   "metadata": {},
   "source": [
    "Twitter is one of the most accessed social networks in the world. Every type of company usually has an account. With that in mind, they are able to verify people's engagement with their products and services, in addition to being able to know their feelings about it. Thus, companies can increase or change their strategies in order to establish an improvement in their deliveries.\n",
    "\n",
    "[Tweepy](http://docs.tweepy.org/en/latest/) is an open source package of Python and an easy way to connect with the Twitter API to collect information, perform analysis and do some automations.\n",
    "\n",
    "Tweepy imposes a rate limit of frequency on the use of the API. Exceeding this limit, we will have to wait 15 minutes to use the API again.\n",
    "\n",
    "*Note: we're going to use Public Mode in our procedures.*"
   ]
  },
  {
   "cell_type": "markdown",
   "metadata": {},
   "source": [
    "### **What is the objective here?**\n",
    "\n",
    "* Collect tweets and retweets.\n",
    "    * timestamp\n",
    "    * location of user\n",
    "    * (re)tweet text\n",
    "    * retweet count\n",
    "    * hashtags"
   ]
  },
  {
   "cell_type": "markdown",
   "metadata": {},
   "source": [
    "## Packages"
   ]
  },
  {
   "cell_type": "markdown",
   "metadata": {},
   "source": [
    "To install tweepy package:\n",
    "\n",
    "```\n",
    "pip install tweepy\n",
    "```\n",
    "\n",
    "Alternatively, install directly from the GitHub repository:\n",
    "\n",
    "```\n",
    "pip install git+https://github.com/tweepy/tweepy.git\n",
    "```\n"
   ]
  },
  {
   "cell_type": "code",
   "execution_count": 2,
   "metadata": {},
   "outputs": [],
   "source": [
    "import tweepy as tw\n",
    "import pandas as pd"
   ]
  },
  {
   "cell_type": "markdown",
   "metadata": {},
   "source": [
    "**AUTHENTICATION**\n",
    "\n",
    "``Private Mode`` - It needs *consumer key*, *consumer secret key*, *access token* and *access token secret.* It's used when, for exemple, you want to do almost everything you can do on the website using code. If you wants to tweet and retweet something, you can. If you want a bot account, you can. And so on...\n",
    "\n",
    "\n",
    "``Public Mode`` - It needs only *consumer key* and *consumer secret key.* The user only access public information."
   ]
  },
  {
   "cell_type": "code",
   "execution_count": 6,
   "metadata": {},
   "outputs": [],
   "source": [
    "## Keys reading\n",
    "\n",
    "# We saved the keys/tokens on a plain text file to \"hide\" them.\n",
    "# HERE WE´RE NOT GOING TO USE TOKEN/TOKEN SECRET\n",
    "\n",
    "with open('.kt/twtk.txt', 'r') as file:\n",
    "    CONSUMER_KEY = file.readline().strip('\\n')\n",
    "    CONSUMER_SECRET_KEY = file.readline().strip('\\n')\n",
    "\n",
    "## Connect the consumer key\n",
    "\n",
    "auth = tw.OAuthHandler(CONSUMER_KEY, CONSUMER_SECRET_KEY) # To both Private and Public Modes"
   ]
  },
  {
   "cell_type": "markdown",
   "metadata": {},
   "source": [
    "**CONNECTION TO TWITTER API**\n",
    "\n",
    "We use the ``auth`` to connect the API. Here are some parameters, among others, to check:\n",
    "\n",
    "* ``wait_on_rate_limit``. When we exceed the rate limit, the connection can be kept if 'True', waiting the API allows procedures again. If 'False', the connection is lost.\n",
    "* ``wait_on_rate_limit_notify`` notifies when the limit is exceeded and the api is waiting for rate limits to replenish.\n",
    "* ``timeout`` is the maximum amount of time (in seconds) to wait for a response from Twitter."
   ]
  },
  {
   "cell_type": "code",
   "execution_count": 7,
   "metadata": {},
   "outputs": [],
   "source": [
    "# Access API user\n",
    "api = tw.API(auth, wait_on_rate_limit=True, wait_on_rate_limit_notify=True, timeout=60)"
   ]
  },
  {
   "cell_type": "markdown",
   "metadata": {},
   "source": [
    "**COLLECT TWEETS**\n",
    "\n",
    "- `api.search`: returns a collection of relevant Tweets matching a specified query;\n",
    "- `q`: any word or list of words we want to check;\n",
    "- `lang`: language given by an ISO 639-1 code;\n",
    "- `result_type`:\n",
    "\n",
    "    - *mixed*: include both popular and real time results in the response;\n",
    "    - *recent*: return only the most recent results in the response;\n",
    "    - *popular*: return only the most popular results in the response.\n",
    "    \n",
    "- `tweet_mode`: if 'compatibility', it returns the until 140 characters. If  'extended', over 140 characters.\n",
    "\n",
    "You can use Cursor attributes:\n",
    "- ``.items(x)`` returns a specific 'x' quantity of tweets;\n",
    "- ``.pages(x)`` returns a specific 'x' quantity of pages (usually about few dozen items).\n",
    "\n"
   ]
  },
  {
   "cell_type": "code",
   "execution_count": 43,
   "metadata": {},
   "outputs": [],
   "source": [
    "## Define parameters\n",
    "\n",
    "# Twitter\n",
    "QUERY1 = ['covid -filter:retweets']\n",
    "ITEMS = 500\n",
    "\n",
    "# lists\n",
    "\n",
    "TWEETS = []\n",
    "\n",
    "# The next loop for collects tweets and retweets according to ITEMS \n",
    "# defined.\n",
    "\n",
    "for tweet in tw.Cursor(api.search,\n",
    "                    q= QUERY1, \n",
    "                    lang= 'pt',\n",
    "                    result_type='recent',\n",
    "                    tweet_mode = 'extended'  # collect the full text (over 140 characters)\n",
    "                    ).items(ITEMS):\n",
    "\n",
    "                    TWEETS.append([tweet.id, tweet.created_at, tweet.user.location, tweet.full_text.replace('\\n', ' '), \n",
    "                                          tweet.retweet_count, [e['text'] for e in tweet._json['entities']['hashtags']]])"
   ]
  },
  {
   "cell_type": "code",
   "execution_count": 35,
   "metadata": {},
   "outputs": [],
   "source": [
    "# Putting tweets on a Data Frame for better view\n",
    "\n",
    "df_tweets = pd.DataFrame(data=TWEETS,  columns=['id', 'created_at', \"location\", 'tweet_text','retweet_count', 'hashtags'])\n",
    "\n",
    "## Saving on .csv file\n",
    "# df_tweets.to_csv('tweets.csv', index=0)"
   ]
  },
  {
   "cell_type": "code",
   "execution_count": 45,
   "metadata": {},
   "outputs": [
    {
     "data": {
      "text/html": [
       "<div>\n",
       "<style scoped>\n",
       "    .dataframe tbody tr th:only-of-type {\n",
       "        vertical-align: middle;\n",
       "    }\n",
       "\n",
       "    .dataframe tbody tr th {\n",
       "        vertical-align: top;\n",
       "    }\n",
       "\n",
       "    .dataframe thead th {\n",
       "        text-align: right;\n",
       "    }\n",
       "</style>\n",
       "<table border=\"1\" class=\"dataframe\">\n",
       "  <thead>\n",
       "    <tr style=\"text-align: right;\">\n",
       "      <th></th>\n",
       "      <th>id</th>\n",
       "      <th>created_at</th>\n",
       "      <th>location</th>\n",
       "      <th>tweet_text</th>\n",
       "      <th>retweet_count</th>\n",
       "      <th>hashtags</th>\n",
       "    </tr>\n",
       "  </thead>\n",
       "  <tbody>\n",
       "    <tr>\n",
       "      <th>0</th>\n",
       "      <td>1275769428182020097</td>\n",
       "      <td>2020-06-24 12:35:08</td>\n",
       "      <td></td>\n",
       "      <td>RT @secomvc: O Brasil já chegou a mais de 613 ...</td>\n",
       "      <td>85</td>\n",
       "      <td>[]</td>\n",
       "    </tr>\n",
       "    <tr>\n",
       "      <th>1</th>\n",
       "      <td>1275769426965602304</td>\n",
       "      <td>2020-06-24 12:35:08</td>\n",
       "      <td>Governador Valadares, Brasil</td>\n",
       "      <td>Minha tia é burra ! Confirmado que tá com covi...</td>\n",
       "      <td>0</td>\n",
       "      <td>[]</td>\n",
       "    </tr>\n",
       "    <tr>\n",
       "      <th>2</th>\n",
       "      <td>1275769425057234947</td>\n",
       "      <td>2020-06-24 12:35:08</td>\n",
       "      <td>Curitiba</td>\n",
       "      <td>Imagina 3 clientes desmarcando, pois as mesmas...</td>\n",
       "      <td>0</td>\n",
       "      <td>[]</td>\n",
       "    </tr>\n",
       "    <tr>\n",
       "      <th>3</th>\n",
       "      <td>1275769424914657280</td>\n",
       "      <td>2020-06-24 12:35:08</td>\n",
       "      <td>Chapecó</td>\n",
       "      <td>✅ Número de casos de Covid-19, em Chapecó, seg...</td>\n",
       "      <td>0</td>\n",
       "      <td>[]</td>\n",
       "    </tr>\n",
       "    <tr>\n",
       "      <th>4</th>\n",
       "      <td>1275769420950929408</td>\n",
       "      <td>2020-06-24 12:35:07</td>\n",
       "      <td></td>\n",
       "      <td>RT @michellebaessoo: 2Crônicas 7:13-14 Faz mui...</td>\n",
       "      <td>4425</td>\n",
       "      <td>[apocalipse, COVID__19]</td>\n",
       "    </tr>\n",
       "    <tr>\n",
       "      <th>...</th>\n",
       "      <td>...</td>\n",
       "      <td>...</td>\n",
       "      <td>...</td>\n",
       "      <td>...</td>\n",
       "      <td>...</td>\n",
       "      <td>...</td>\n",
       "    </tr>\n",
       "    <tr>\n",
       "      <th>995</th>\n",
       "      <td>1275767287136628736</td>\n",
       "      <td>2020-06-24 12:26:38</td>\n",
       "      <td></td>\n",
       "      <td>RT @majorolimpio: Como não se emocionar junto?...</td>\n",
       "      <td>149</td>\n",
       "      <td>[]</td>\n",
       "    </tr>\n",
       "    <tr>\n",
       "      <th>996</th>\n",
       "      <td>1275767284309676033</td>\n",
       "      <td>2020-06-24 12:26:37</td>\n",
       "      <td>Rio de Janeiro, Brasil</td>\n",
       "      <td>O #COVID__19 tem vários aliados no Brasil. A c...</td>\n",
       "      <td>0</td>\n",
       "      <td>[COVID__19]</td>\n",
       "    </tr>\n",
       "    <tr>\n",
       "      <th>997</th>\n",
       "      <td>1275767283563069440</td>\n",
       "      <td>2020-06-24 12:26:37</td>\n",
       "      <td></td>\n",
       "      <td>RT @michellebaessoo: 2Crônicas 7:13-14 Faz mui...</td>\n",
       "      <td>4432</td>\n",
       "      <td>[apocalipse, COVID__19]</td>\n",
       "    </tr>\n",
       "    <tr>\n",
       "      <th>998</th>\n",
       "      <td>1275767282288001026</td>\n",
       "      <td>2020-06-24 12:26:37</td>\n",
       "      <td>Santo Antônio do Descoberto, B</td>\n",
       "      <td>RT @JoseMedeirosMT: Segundo a Revista Ceará, e...</td>\n",
       "      <td>119</td>\n",
       "      <td>[]</td>\n",
       "    </tr>\n",
       "    <tr>\n",
       "      <th>999</th>\n",
       "      <td>1275767272389443584</td>\n",
       "      <td>2020-06-24 12:26:35</td>\n",
       "      <td>São Paulo, Brasil</td>\n",
       "      <td>RT @augustosnunes: Quando a covid-19 for neutr...</td>\n",
       "      <td>4610</td>\n",
       "      <td>[]</td>\n",
       "    </tr>\n",
       "  </tbody>\n",
       "</table>\n",
       "<p>1000 rows × 6 columns</p>\n",
       "</div>"
      ],
      "text/plain": [
       "                      id          created_at                        location  \\\n",
       "0    1275769428182020097 2020-06-24 12:35:08                                   \n",
       "1    1275769426965602304 2020-06-24 12:35:08    Governador Valadares, Brasil   \n",
       "2    1275769425057234947 2020-06-24 12:35:08                        Curitiba   \n",
       "3    1275769424914657280 2020-06-24 12:35:08                         Chapecó   \n",
       "4    1275769420950929408 2020-06-24 12:35:07                                   \n",
       "..                   ...                 ...                             ...   \n",
       "995  1275767287136628736 2020-06-24 12:26:38                                   \n",
       "996  1275767284309676033 2020-06-24 12:26:37          Rio de Janeiro, Brasil   \n",
       "997  1275767283563069440 2020-06-24 12:26:37                                   \n",
       "998  1275767282288001026 2020-06-24 12:26:37  Santo Antônio do Descoberto, B   \n",
       "999  1275767272389443584 2020-06-24 12:26:35               São Paulo, Brasil   \n",
       "\n",
       "                                            tweet_text  retweet_count  \\\n",
       "0    RT @secomvc: O Brasil já chegou a mais de 613 ...             85   \n",
       "1    Minha tia é burra ! Confirmado que tá com covi...              0   \n",
       "2    Imagina 3 clientes desmarcando, pois as mesmas...              0   \n",
       "3    ✅ Número de casos de Covid-19, em Chapecó, seg...              0   \n",
       "4    RT @michellebaessoo: 2Crônicas 7:13-14 Faz mui...           4425   \n",
       "..                                                 ...            ...   \n",
       "995  RT @majorolimpio: Como não se emocionar junto?...            149   \n",
       "996  O #COVID__19 tem vários aliados no Brasil. A c...              0   \n",
       "997  RT @michellebaessoo: 2Crônicas 7:13-14 Faz mui...           4432   \n",
       "998  RT @JoseMedeirosMT: Segundo a Revista Ceará, e...            119   \n",
       "999  RT @augustosnunes: Quando a covid-19 for neutr...           4610   \n",
       "\n",
       "                    hashtags  \n",
       "0                         []  \n",
       "1                         []  \n",
       "2                         []  \n",
       "3                         []  \n",
       "4    [apocalipse, COVID__19]  \n",
       "..                       ...  \n",
       "995                       []  \n",
       "996              [COVID__19]  \n",
       "997  [apocalipse, COVID__19]  \n",
       "998                       []  \n",
       "999                       []  \n",
       "\n",
       "[1000 rows x 6 columns]"
      ]
     },
     "execution_count": 45,
     "metadata": {},
     "output_type": "execute_result"
    }
   ],
   "source": [
    "df_tweets"
   ]
  },
  {
   "cell_type": "markdown",
   "metadata": {},
   "source": [
    "That was a simple way to collect some (re)tweets informations.\n",
    "\n",
    "Hope you enjoyed.\n",
    "\n",
    "**Timão Legal** :)\n"
   ]
  }
 ],
 "metadata": {
  "kernelspec": {
   "display_name": "Python 3",
   "language": "python",
   "name": "python3"
  },
  "language_info": {
   "codemirror_mode": {
    "name": "ipython",
    "version": 3
   },
   "file_extension": ".py",
   "mimetype": "text/x-python",
   "name": "python",
   "nbconvert_exporter": "python",
   "pygments_lexer": "ipython3",
   "version": "3.7.6"
  }
 },
 "nbformat": 4,
 "nbformat_minor": 4
}
