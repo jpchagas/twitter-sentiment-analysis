{
 "cells": [
  {
   "cell_type": "markdown",
   "metadata": {},
   "source": [
    "# **Tweepy for Twitter API**"
   ]
  },
  {
   "cell_type": "markdown",
   "metadata": {},
   "source": [
    "Twitter is one of the most accessed social networks in the world. Every type of company usually has an account. With that in mind, they are able to verify people's engagement with their products and services, in addition to being able to know their feelings about it. Thus, companies can increase or change their strategies in order to establish an improvement in their deliveries.\n",
    "\n",
    "[Tweepy](http://docs.tweepy.org/en/latest/) is an open source package of Python and an easy way to connect with the Twitter API to collect information, perform analysis and do some automations.\n",
    "\n",
    "Tweepy imposes a rate limit of frequency on the use of the API. Exceeding this limit, we will have to wait 15 minutes to use the API again.\n",
    "\n",
    "*Note: we're going to use Public Mode in our procedures.*"
   ]
  },
  {
   "cell_type": "markdown",
   "metadata": {},
   "source": [
    "### **What is the objective here?**\n",
    "\n",
    "* Collect tweets and retweets.\n",
    "    * timestamp\n",
    "    * location of user\n",
    "    * (re)tweet text\n",
    "    * retweet count\n",
    "    * hashtags"
   ]
  },
  {
   "cell_type": "markdown",
   "metadata": {},
   "source": [
    "## Packages"
   ]
  },
  {
   "cell_type": "markdown",
   "metadata": {},
   "source": [
    "To install tweepy package:\n",
    "\n",
    "```\n",
    "pip install tweepy\n",
    "```\n",
    "\n",
    "Alternatively, install directly from the GitHub repository:\n",
    "\n",
    "```\n",
    "pip install git+https://github.com/tweepy/tweepy.git\n",
    "```\n"
   ]
  },
  {
   "cell_type": "code",
   "execution_count": 1,
   "metadata": {},
   "outputs": [],
   "source": [
    "import tweepy as tw\n",
    "import pandas as pd\n",
    "pd.set_option('display.max_colwidth', None)"
   ]
  },
  {
   "cell_type": "markdown",
   "metadata": {},
   "source": [
    "**AUTHENTICATION**\n",
    "\n",
    "``Private Mode`` - It needs *consumer key*, *consumer secret key*, *access token* and *access token secret.* It's used when, for exemple, you want to do almost everything you can do on the website using code. If you wants to tweet and retweet something, you can. If you want a bot account, you can. And so on...\n",
    "\n",
    "\n",
    "``Public Mode`` - It needs only *consumer key* and *consumer secret key.* The user only access public information."
   ]
  },
  {
   "cell_type": "code",
   "execution_count": 2,
   "metadata": {},
   "outputs": [],
   "source": [
    "## Keys reading\n",
    "\n",
    "# We saved the keys/tokens on a plain text file to \"hide\" them.\n",
    "# HERE WE´RE NOT GOING TO USE TOKEN/TOKEN SECRET\n",
    "\n",
    "with open('.kt/twtk.txt', 'r') as file:\n",
    "    CONSUMER_KEY = file.readline().strip('\\n')\n",
    "    CONSUMER_SECRET_KEY = file.readline().strip('\\n')\n",
    "\n",
    "## Connect the consumer key\n",
    "\n",
    "auth = tw.OAuthHandler(CONSUMER_KEY, CONSUMER_SECRET_KEY) # To both Private and Public Modes"
   ]
  },
  {
   "cell_type": "markdown",
   "metadata": {},
   "source": [
    "**CONNECTION TO TWITTER API**\n",
    "\n",
    "We use the ``auth`` to connect the API. Here are some parameters, among others, to check:\n",
    "\n",
    "* ``wait_on_rate_limit``. When we exceed the rate limit, the connection can be kept if 'True', waiting the API allows procedures again. If 'False', the connection is lost.\n",
    "* ``wait_on_rate_limit_notify`` notifies when the limit is exceeded and the api is waiting for rate limits to replenish.\n",
    "* ``timeout`` is the maximum amount of time (in seconds) to wait for a response from Twitter."
   ]
  },
  {
   "cell_type": "code",
   "execution_count": 3,
   "metadata": {},
   "outputs": [],
   "source": [
    "# Access API user\n",
    "api = tw.API(auth, wait_on_rate_limit=True, wait_on_rate_limit_notify=True, timeout=60)"
   ]
  },
  {
   "cell_type": "markdown",
   "metadata": {},
   "source": [
    "**COLLECT TWEETS**\n",
    "\n",
    "- `api.search`: returns a collection of relevant Tweets matching a specified query;\n",
    "- `q`: any word or list of words we want to check;\n",
    "- `lang`: language given by an ISO 639-1 code;\n",
    "- `result_type`:\n",
    "\n",
    "    - *mixed*: include both popular and real time results in the response;\n",
    "    - *recent*: return only the most recent results in the response;\n",
    "    - *popular*: return only the most popular results in the response.\n",
    "    \n",
    "- `tweet_mode`: if 'compatibility', it returns the until 140 characters. If  'extended', over 140 characters.\n",
    "\n",
    "You can use Cursor attributes:\n",
    "- ``.items(x)`` returns a specific 'x' quantity of tweets;\n",
    "- ``.pages(x)`` returns a specific 'x' quantity of pages (usually about few dozen items).\n",
    "\n"
   ]
  },
  {
   "cell_type": "code",
   "execution_count": 4,
   "metadata": {},
   "outputs": [],
   "source": [
    "## Define parameters\n",
    "\n",
    "# Twitter\n",
    "QUERY1 = ['covid -filter:retweets']\n",
    "ITEMS = 100\n",
    "\n",
    "# lists\n",
    "\n",
    "TWEETS = []\n",
    "\n",
    "# The next loop for collects tweets and retweets according to ITEMS \n",
    "# defined.\n",
    "\n",
    "for tweet in tw.Cursor(api.search,\n",
    "                    q= QUERY1, \n",
    "                    lang= 'pt',\n",
    "                    result_type='recent',\n",
    "                    tweet_mode = 'extended'  # collect the full text (over 140 characters)\n",
    "                    ).items(ITEMS):\n",
    "\n",
    "                    TWEETS.append([tweet.id, tweet.created_at, tweet.user.location, tweet.full_text.replace('\\n', ' '), \n",
    "                                          tweet.retweet_count, [e['text'] for e in tweet._json['entities']['hashtags']]])"
   ]
  },
  {
   "cell_type": "code",
   "execution_count": 5,
   "metadata": {},
   "outputs": [],
   "source": [
    "# Putting tweets on a Data Frame for better view\n",
    "\n",
    "df_tweets = pd.DataFrame(data=TWEETS,  columns=['id', 'created_at', \"location\", 'tweet_text','retweet_count', 'hashtags'])\n",
    "\n",
    "## Saving on .csv file\n",
    "# df_tweets.to_csv('tweets.csv', index=0)"
   ]
  },
  {
   "cell_type": "code",
   "execution_count": 6,
   "metadata": {
    "tags": []
   },
   "outputs": [
    {
     "output_type": "execute_result",
     "data": {
      "text/plain": "                     id          created_at                location  \\\n0   1277605557214609409 2020-06-29 14:11:16                Brasília   \n1   1277605554035310592 2020-06-29 14:11:15  Belo Horizonte, Brasil   \n2   1277605551581659137 2020-06-29 14:11:14                           \n3   1277605550486884353 2020-06-29 14:11:14       sao paulo, brasil   \n4   1277605546623930368 2020-06-29 14:11:13               Jerusalem   \n..                  ...                 ...                     ...   \n95  1277605348845764608 2020-06-29 14:10:26                           \n96  1277605347964960773 2020-06-29 14:10:26                           \n97  1277605347319037953 2020-06-29 14:10:26         Barra da Tijuca   \n98  1277605346446581762 2020-06-29 14:10:26                           \n99  1277605346241110017 2020-06-29 14:10:25  Rio de Janeiro, Brasil   \n\n                                                                                                                                                                                                                   tweet_text  \\\n0                                                                                RT @Mariana26266337: @De_tremurasSDV @fodadew @jairbolsonaro @minsaude Se ele como PRESIDENTE tivesse sido mais responsável, em vez de fica…   \n1                                                                                                                               RT @jairbolsonaro: - O Brasil e a vacina contra a COVID-19. @minsaude https://t.co/GYKr0Qkg1d   \n2                                                                                                                                                                      RT @peperan: aI mAS Os jOVenS aNdAm a EspALhaR o cOvID   \n3                                                                                    RT @Terra: #Coronavírus: Estudo italiano mostra carga viral de pacientes com covid-19 menor em maio do que abril https://t.co/1ECxFhoEto   \n4                                                                                                                               RT @jairbolsonaro: - O Brasil e a vacina contra a COVID-19. @minsaude https://t.co/GYKr0Qkg1d   \n..                                                                                                                                                                                                                        ...   \n95                                                                               RT @Debora_D_Diniz: A primeira mulher a morrer de aborto clandestino na pandemia: uma anônima, com marido, aos 31 anos. Ele usou métodos br…   \n96                                                                                                                              RT @jairbolsonaro: - O Brasil e a vacina contra a COVID-19. @minsaude https://t.co/GYKr0Qkg1d   \n97                        @jairbolsonaro @minsaude Água no Nordeste e vacina contra o COVID-19. Continuarei a minha campanha para o Sr ou a sua indicação, até o final da minha vida. O MELHOR PRESIDENTE DO BRASIL! 🇧🇷🇧🇷🇧🇷🇧🇷   \n98                                                                                                                              RT @jairbolsonaro: - O Brasil e a vacina contra a COVID-19. @minsaude https://t.co/GYKr0Qkg1d   \n99  Comento mais em ensaios específicos em meu perfil do LinkedIn  #ciência #conhecimento #covid_19 #covid19 #pandemics #pandemia #pensamentocrítico #obscurantismonão #ForaBolsonaro #marchapelavida https://t.co/WmGTM5uOBj   \n\n    retweet_count  \\\n0               1   \n1             694   \n2              21   \n3               1   \n4             694   \n..            ...   \n95            160   \n96            699   \n97              0   \n98            699   \n99              0   \n\n                                                                                                                               hashtags  \n0                                                                                                                                    []  \n1                                                                                                                                    []  \n2                                                                                                                                    []  \n3                                                                                                                         [Coronavírus]  \n4                                                                                                                                    []  \n..                                                                                                                                  ...  \n95                                                                                                                                   []  \n96                                                                                                                                   []  \n97                                                                                                                                   []  \n98                                                                                                                                   []  \n99  [ciência, conhecimento, covid_19, covid19, pandemics, pandemia, pensamentocrítico, obscurantismonão, ForaBolsonaro, marchapelavida]  \n\n[100 rows x 6 columns]",
      "text/html": "<div>\n<style scoped>\n    .dataframe tbody tr th:only-of-type {\n        vertical-align: middle;\n    }\n\n    .dataframe tbody tr th {\n        vertical-align: top;\n    }\n\n    .dataframe thead th {\n        text-align: right;\n    }\n</style>\n<table border=\"1\" class=\"dataframe\">\n  <thead>\n    <tr style=\"text-align: right;\">\n      <th></th>\n      <th>id</th>\n      <th>created_at</th>\n      <th>location</th>\n      <th>tweet_text</th>\n      <th>retweet_count</th>\n      <th>hashtags</th>\n    </tr>\n  </thead>\n  <tbody>\n    <tr>\n      <th>0</th>\n      <td>1277605557214609409</td>\n      <td>2020-06-29 14:11:16</td>\n      <td>Brasília</td>\n      <td>RT @Mariana26266337: @De_tremurasSDV @fodadew @jairbolsonaro @minsaude Se ele como PRESIDENTE tivesse sido mais responsável, em vez de fica…</td>\n      <td>1</td>\n      <td>[]</td>\n    </tr>\n    <tr>\n      <th>1</th>\n      <td>1277605554035310592</td>\n      <td>2020-06-29 14:11:15</td>\n      <td>Belo Horizonte, Brasil</td>\n      <td>RT @jairbolsonaro: - O Brasil e a vacina contra a COVID-19. @minsaude https://t.co/GYKr0Qkg1d</td>\n      <td>694</td>\n      <td>[]</td>\n    </tr>\n    <tr>\n      <th>2</th>\n      <td>1277605551581659137</td>\n      <td>2020-06-29 14:11:14</td>\n      <td></td>\n      <td>RT @peperan: aI mAS Os jOVenS aNdAm a EspALhaR o cOvID</td>\n      <td>21</td>\n      <td>[]</td>\n    </tr>\n    <tr>\n      <th>3</th>\n      <td>1277605550486884353</td>\n      <td>2020-06-29 14:11:14</td>\n      <td>sao paulo, brasil</td>\n      <td>RT @Terra: #Coronavírus: Estudo italiano mostra carga viral de pacientes com covid-19 menor em maio do que abril https://t.co/1ECxFhoEto</td>\n      <td>1</td>\n      <td>[Coronavírus]</td>\n    </tr>\n    <tr>\n      <th>4</th>\n      <td>1277605546623930368</td>\n      <td>2020-06-29 14:11:13</td>\n      <td>Jerusalem</td>\n      <td>RT @jairbolsonaro: - O Brasil e a vacina contra a COVID-19. @minsaude https://t.co/GYKr0Qkg1d</td>\n      <td>694</td>\n      <td>[]</td>\n    </tr>\n    <tr>\n      <th>...</th>\n      <td>...</td>\n      <td>...</td>\n      <td>...</td>\n      <td>...</td>\n      <td>...</td>\n      <td>...</td>\n    </tr>\n    <tr>\n      <th>95</th>\n      <td>1277605348845764608</td>\n      <td>2020-06-29 14:10:26</td>\n      <td></td>\n      <td>RT @Debora_D_Diniz: A primeira mulher a morrer de aborto clandestino na pandemia: uma anônima, com marido, aos 31 anos. Ele usou métodos br…</td>\n      <td>160</td>\n      <td>[]</td>\n    </tr>\n    <tr>\n      <th>96</th>\n      <td>1277605347964960773</td>\n      <td>2020-06-29 14:10:26</td>\n      <td></td>\n      <td>RT @jairbolsonaro: - O Brasil e a vacina contra a COVID-19. @minsaude https://t.co/GYKr0Qkg1d</td>\n      <td>699</td>\n      <td>[]</td>\n    </tr>\n    <tr>\n      <th>97</th>\n      <td>1277605347319037953</td>\n      <td>2020-06-29 14:10:26</td>\n      <td>Barra da Tijuca</td>\n      <td>@jairbolsonaro @minsaude Água no Nordeste e vacina contra o COVID-19. Continuarei a minha campanha para o Sr ou a sua indicação, até o final da minha vida. O MELHOR PRESIDENTE DO BRASIL! 🇧🇷🇧🇷🇧🇷🇧🇷</td>\n      <td>0</td>\n      <td>[]</td>\n    </tr>\n    <tr>\n      <th>98</th>\n      <td>1277605346446581762</td>\n      <td>2020-06-29 14:10:26</td>\n      <td></td>\n      <td>RT @jairbolsonaro: - O Brasil e a vacina contra a COVID-19. @minsaude https://t.co/GYKr0Qkg1d</td>\n      <td>699</td>\n      <td>[]</td>\n    </tr>\n    <tr>\n      <th>99</th>\n      <td>1277605346241110017</td>\n      <td>2020-06-29 14:10:25</td>\n      <td>Rio de Janeiro, Brasil</td>\n      <td>Comento mais em ensaios específicos em meu perfil do LinkedIn  #ciência #conhecimento #covid_19 #covid19 #pandemics #pandemia #pensamentocrítico #obscurantismonão #ForaBolsonaro #marchapelavida https://t.co/WmGTM5uOBj</td>\n      <td>0</td>\n      <td>[ciência, conhecimento, covid_19, covid19, pandemics, pandemia, pensamentocrítico, obscurantismonão, ForaBolsonaro, marchapelavida]</td>\n    </tr>\n  </tbody>\n</table>\n<p>100 rows × 6 columns</p>\n</div>"
     },
     "metadata": {},
     "execution_count": 6
    }
   ],
   "source": [
    "df_tweets"
   ]
  },
  {
   "cell_type": "markdown",
   "metadata": {},
   "source": [
    "That was a simple way to collect some (re)tweets informations.\n",
    "\n",
    "Hope you enjoyed.\n",
    "\n",
    "**Timão Legal** :)\n"
   ]
  }
 ],
 "metadata": {
  "kernelspec": {
   "display_name": "Python 3",
   "language": "python",
   "name": "python3"
  },
  "language_info": {
   "codemirror_mode": {
    "name": "ipython",
    "version": 3
   },
   "file_extension": ".py",
   "mimetype": "text/x-python",
   "name": "python",
   "nbconvert_exporter": "python",
   "pygments_lexer": "ipython3",
   "version": "3.7.7-final"
  }
 },
 "nbformat": 4,
 "nbformat_minor": 4
}